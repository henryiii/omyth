{
 "cells": [
  {
   "cell_type": "code",
   "execution_count": 132,
   "metadata": {
    "collapsed": false
   },
   "outputs": [
    {
     "data": {
      "image/svg+xml": [
       "<svg baseProfile=\"tiny\" height=\"126mm\" version=\"1.2\" width=\"89mm\" xmlns=\"http://www.w3.org/2000/svg\" xmlns:ev=\"http://www.w3.org/2001/xml-events\" xmlns:xlink=\"http://www.w3.org/1999/xlink\"><defs /><rect fill=\"white\" height=\"125mm\" rx=\"2mm\" ry=\"2mm\" stroke=\"black\" width=\"88mm\" x=\"0\" y=\"0\" /><line stroke=\"black\" x1=\"20mm\" x2=\"30mm\" y1=\"0mm\" y2=\"6mm\" /><line stroke=\"black\" x1=\"30mm\" x2=\"58mm\" y1=\"6mm\" y2=\"6mm\" /><line stroke=\"black\" x1=\"58mm\" x2=\"68mm\" y1=\"6mm\" y2=\"0mm\" /><text text-anchor=\"middle\" x=\"5mm\" y=\"6mm\">A</text><text text-anchor=\"middle\" x=\"84mm\" y=\"6mm\">H</text><text text-anchor=\"middle\" x=\"5mm\" y=\"16mm\">C</text><text text-anchor=\"middle\" x=\"44mm\" y=\"4.5mm\">Category</text><image height=\"60mm\" width=\"88mm\" x=\"0mm\" xlink:href=\"https://upload.wikimedia.org/wikipedia/commons/9/9a/Two_hoplites.jpg\" y=\"20mm\" /><text text-anchor=\"middle\" x=\"44mm\" y=\"12mm\">Genus</text><text text-anchor=\"middle\" x=\"44mm\" y=\"18mm\">Name</text><text x=\"4mm\" y=\"82mm\">Discription of card and properties</text><text text-anchor=\"middle\" x=\"44mm\" y=\"122mm\">Artist</text><text x=\"4mm\" y=\"122mm\">CC</text></svg>"
      ],
      "text/plain": [
       "<__main__.DrawingIPy at 0x10545b748>"
      ]
     },
     "execution_count": 132,
     "metadata": {},
     "output_type": "execute_result"
    }
   ],
   "source": [
    "import svgwrite\n",
    "from svgwrite import mm\n",
    "\n",
    "class DrawingIPy(svgwrite.Drawing):\n",
    "    def _repr_svg_(self):\n",
    "        return self.tostring()\n",
    "\n",
    "dwg = DrawingIPy('test.svg', profile='tiny', size=(89*mm, 126*mm))\n",
    "dwg.add(svgwrite.shapes.Rect(size=(88*mm, 125*mm),rx=2*mm,ry=2*mm, fill='white', stroke='black'))\n",
    "dwg.add(dwg.line(start=(20*mm,0*mm),end=(30*mm,6*mm), stroke='black'))\n",
    "dwg.add(dwg.line(start=(30*mm,6*mm),end=((88-30)*mm,6*mm), stroke='black'))\n",
    "dwg.add(dwg.line(start=((88-30)*mm,6*mm),end=((88-20)*mm,0*mm), stroke='black'))\n",
    "dwg.add(dwg.text('A', insert=(5*mm, 6*mm), text_anchor='middle'))\n",
    "dwg.add(dwg.text('H', insert=(84*mm, 6*mm), text_anchor='middle'))\n",
    "dwg.add(dwg.text('C', insert=(5*mm, 16*mm), text_anchor='middle'))\n",
    "dwg.add(dwg.text('Category', insert=(44*mm, 4.5*mm), text_anchor='middle'))\n",
    "dwg.add(dwg.image(\"https://upload.wikimedia.org/wikipedia/commons/9/9a/Two_hoplites.jpg\", size=(88*mm,60*mm), insert=(0*mm,20*mm)))\n",
    "dwg.add(dwg.text('Genus', insert=(44*mm, 12*mm), text_anchor='middle'))\n",
    "dwg.add(dwg.text('Name', insert=(44*mm, 18*mm), text_anchor='middle'))\n",
    "dwg.add(dwg.text('Discription of card and properties',\n",
    "                     insert=(4*mm, 82*mm)))#, size=(80*mm,40*mm)))\n",
    "dwg.add(dwg.text('Artist', insert=(44*mm, 122*mm), text_anchor='middle'))\n",
    "dwg.add(dwg.text('CC', insert=(4*mm, 122*mm)))\n",
    "dwg"
   ]
  },
  {
   "cell_type": "code",
   "execution_count": 119,
   "metadata": {
    "collapsed": false
   },
   "outputs": [
    {
     "data": {
      "text/plain": [
       "'<svg baseProfile=\"tiny\" height=\"126mm\" version=\"1.2\" width=\"89mm\" xmlns=\"http://www.w3.org/2000/svg\" xmlns:ev=\"http://www.w3.org/2001/xml-events\" xmlns:xlink=\"http://www.w3.org/1999/xlink\"><defs /><rect fill=\"white\" height=\"125mm\" rx=\"2mm\" ry=\"2mm\" stroke=\"black\" width=\"88mm\" x=\"0\" y=\"0\" /><text text-anchor=\"middle\" x=\"5mm\" y=\"6mm\">A</text><text text-anchor=\"middle\" x=\"84mm\" y=\"6mm\">H</text><text text-anchor=\"middle\" x=\"5mm\" y=\"16mm\">C</text><text text-anchor=\"middle\" x=\"44mm\" y=\"6mm\">Category</text><image height=\"60mm\" width=\"88mm\" x=\"0mm\" xlink:href=\"https://upload.wikimedia.org/wikipedia/commons/9/9a/Two_hoplites.jpg\" y=\"20mm\" /><text text-anchor=\"middle\" x=\"44mm\" y=\"12mm\">Genus</text><text text-anchor=\"middle\" x=\"44mm\" y=\"18mm\">Name</text><textArea height=\"40mm\" width=\"80mm\" x=\"4mm\" y=\"82mm\"><tspan>Discription of card and properties, maybe info about unit.</tspan></textArea><text text-anchor=\"middle\" x=\"44mm\" y=\"122mm\">Artist</text></svg>'"
      ]
     },
     "execution_count": 119,
     "metadata": {},
     "output_type": "execute_result"
    }
   ],
   "source": [
    "dwg.tostring()"
   ]
  },
  {
   "cell_type": "code",
   "execution_count": null,
   "metadata": {
    "collapsed": true
   },
   "outputs": [],
   "source": []
  }
 ],
 "metadata": {
  "kernelspec": {
   "display_name": "Python 3",
   "language": "python",
   "name": "python3"
  },
  "language_info": {
   "codemirror_mode": {
    "name": "ipython",
    "version": 3
   },
   "file_extension": ".py",
   "mimetype": "text/x-python",
   "name": "python",
   "nbconvert_exporter": "python",
   "pygments_lexer": "ipython3",
   "version": "3.4.3"
  }
 },
 "nbformat": 4,
 "nbformat_minor": 0
}
