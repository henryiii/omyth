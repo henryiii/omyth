{
 "cells": [
  {
   "cell_type": "code",
   "execution_count": 37,
   "metadata": {
    "collapsed": false
   },
   "outputs": [
    {
     "ename": "ImportError",
     "evalue": "cannot import name 'Transform'",
     "output_type": "error",
     "traceback": [
      "\u001b[1;31m---------------------------------------------------------------------------\u001b[0m",
      "\u001b[1;31mImportError\u001b[0m                               Traceback (most recent call last)",
      "\u001b[1;32m<ipython-input-37-2fd0e0f0766b>\u001b[0m in \u001b[0;36m<module>\u001b[1;34m()\u001b[0m\n\u001b[0;32m      1\u001b[0m \u001b[1;32mimport\u001b[0m \u001b[0msvgwrite\u001b[0m\u001b[1;33m\u001b[0m\u001b[0m\n\u001b[0;32m      2\u001b[0m \u001b[1;32mfrom\u001b[0m \u001b[0msvgwrite\u001b[0m \u001b[1;32mimport\u001b[0m \u001b[0mmm\u001b[0m\u001b[1;33m\u001b[0m\u001b[0m\n\u001b[1;32m----> 3\u001b[1;33m \u001b[1;32mfrom\u001b[0m \u001b[0msvgwrite\u001b[0m \u001b[1;32mimport\u001b[0m \u001b[0mTransform\u001b[0m\u001b[1;33m\u001b[0m\u001b[0m\n\u001b[0m\u001b[0;32m      4\u001b[0m \u001b[1;33m\u001b[0m\u001b[0m\n\u001b[0;32m      5\u001b[0m \u001b[1;32mclass\u001b[0m \u001b[0mDrawingIPy\u001b[0m\u001b[1;33m(\u001b[0m\u001b[0msvgwrite\u001b[0m\u001b[1;33m.\u001b[0m\u001b[0mDrawing\u001b[0m\u001b[1;33m)\u001b[0m\u001b[1;33m:\u001b[0m\u001b[1;33m\u001b[0m\u001b[0m\n",
      "\u001b[1;31mImportError\u001b[0m: cannot import name 'Transform'"
     ]
    }
   ],
   "source": [
    "import svgwrite\n",
    "from svgwrite import mm\n",
    "\n",
    "class DrawingIPy(svgwrite.Drawing):\n",
    "    def _repr_svg_(self):\n",
    "        return self.tostring()\n",
    "colors = [\"#129300\", \"#9800FF\", \"#F088AF\", \"#FF33AA\", \"#98AAFF\"]\n",
    "\n",
    "dwg = DrawingIPy('test.svg', profile='tiny', size=(89*mm, 126*mm))\n",
    "dwg.add(svgwrite.shapes.Rect(size=(88*mm, 125*mm),rx=2*mm,ry=2*mm, fill='white', stroke='black'))\n",
    "dwg.add(dwg.image(\"https://upload.wikimedia.org/wikipedia/commons/9/9a/Two_hoplites.jpg\", size=(88*mm,60*mm), insert=(0*mm,20*mm)))\n",
    "dwg.add(dwg.line(start=(20*mm,0*mm),end=(30*mm,6*mm), stroke='black'))\n",
    "dwg.add(dwg.line(start=(30*mm,6*mm),end=((88-30)*mm,6*mm), stroke='black'))\n",
    "dwg.add(dwg.line(start=((88-30)*mm,6*mm),end=((88-20)*mm,0*mm), stroke='black'))\n",
    "\n",
    "dwg.add(dwg.circle(r=3*mm, center=(5*mm, 4*mm), fill=colors[2], stroke='black'))\n",
    "dwg.add(dwg.text('A', insert=(5*mm, 5*mm), text_anchor='middle'))\n",
    "\n",
    "for i in range(0,5):\n",
    "    dwg.add(svgwrite.shapes.Rect(size=(4*mm, 4*mm), insert=(82*mm, (12+4*i)*mm), fill=colors[i], stroke='black'))\n",
    "    dwg.add(dwg.text(str(i), insert=(84*mm, (12+3.5+4*i)*mm), text_anchor='middle'))\n",
    "\n",
    "dwg.add(dwg.path('M 297.29747,550.86823 C 283.52243,535.43191 249.1268,505.33855 220.86277,483.99412 C 137.11867,420.75228 125.72108,411.5999 91.719238,380.29088 C 29.03471,322.57071 2.413622,264.58086 2.5048478,185.95124 C 2.5493594,147.56739 5.1656152,132.77929 15.914734,110.15398 C 34.151433,71.768267 61.014996,43.244667 95.360052,25.799457 C 119.68545,13.443675 131.6827,7.9542046 172.30448,7.7296236 C 214.79777,7.4947896 223.74311,12.449347 248.73919,26.181459 C 279.1637,42.895777 310.47909,78.617167 316.95242,103.99205 L 320.95052,119.66445 L 330.81015,98.079942 C 386.52632,-23.892986 564.40851,-22.06811 626.31244,101.11153 C 645.95011,140.18758 648.10608,223.6247 630.69256,270.6244 C 607.97729,331.93377 565.31255,378.67493 466.68622,450.30098 C 402.0054,497.27462 328.80148,568.34684 323.70555,578.32901 C 317.79007,589.91654 323.42339,580.14491 297.29747,550.86823 z'\n",
    "                , fill=\"#FF4444\", transform=Transform.scale(.1)))\n",
    "dwg.add(dwg.text('H', insert=(84*mm, 6*mm), text_anchor='middle'))\n",
    "\n",
    "dwg.add(dwg.text('C', insert=(5*mm, 16*mm), text_anchor='middle'))\n",
    "dwg.add(dwg.text('Category', insert=(44*mm, 4.5*mm), text_anchor='middle'))\n",
    "\n",
    "dwg.add(dwg.text('Genus', insert=(44*mm, 12*mm), text_anchor='middle'))\n",
    "dwg.add(dwg.text('Name', insert=(44*mm, 18*mm), text_anchor='middle'))\n",
    "dwg.add(dwg.text('Discription of card and properties',\n",
    "                     insert=(4*mm, 82*mm)))#, size=(80*mm,40*mm)))\n",
    "dwg.add(dwg.text('Artist', insert=(44*mm, 122*mm), text_anchor='middle'))\n",
    "dwg.add(dwg.text('CC', insert=(4*mm, 122*mm)))\n",
    "dwg"
   ]
  },
  {
   "cell_type": "code",
   "execution_count": 119,
   "metadata": {
    "collapsed": false
   },
   "outputs": [
    {
     "data": {
      "text/plain": [
       "'<svg baseProfile=\"tiny\" height=\"126mm\" version=\"1.2\" width=\"89mm\" xmlns=\"http://www.w3.org/2000/svg\" xmlns:ev=\"http://www.w3.org/2001/xml-events\" xmlns:xlink=\"http://www.w3.org/1999/xlink\"><defs /><rect fill=\"white\" height=\"125mm\" rx=\"2mm\" ry=\"2mm\" stroke=\"black\" width=\"88mm\" x=\"0\" y=\"0\" /><text text-anchor=\"middle\" x=\"5mm\" y=\"6mm\">A</text><text text-anchor=\"middle\" x=\"84mm\" y=\"6mm\">H</text><text text-anchor=\"middle\" x=\"5mm\" y=\"16mm\">C</text><text text-anchor=\"middle\" x=\"44mm\" y=\"6mm\">Category</text><image height=\"60mm\" width=\"88mm\" x=\"0mm\" xlink:href=\"https://upload.wikimedia.org/wikipedia/commons/9/9a/Two_hoplites.jpg\" y=\"20mm\" /><text text-anchor=\"middle\" x=\"44mm\" y=\"12mm\">Genus</text><text text-anchor=\"middle\" x=\"44mm\" y=\"18mm\">Name</text><textArea height=\"40mm\" width=\"80mm\" x=\"4mm\" y=\"82mm\"><tspan>Discription of card and properties, maybe info about unit.</tspan></textArea><text text-anchor=\"middle\" x=\"44mm\" y=\"122mm\">Artist</text></svg>'"
      ]
     },
     "execution_count": 119,
     "metadata": {},
     "output_type": "execute_result"
    }
   ],
   "source": [
    "dwg.tostring()"
   ]
  },
  {
   "cell_type": "code",
   "execution_count": null,
   "metadata": {
    "collapsed": true
   },
   "outputs": [],
   "source": []
  }
 ],
 "metadata": {
  "kernelspec": {
   "display_name": "Python 3",
   "language": "python",
   "name": "python3"
  },
  "language_info": {
   "codemirror_mode": {
    "name": "ipython",
    "version": 3
   },
   "file_extension": ".py",
   "mimetype": "text/x-python",
   "name": "python",
   "nbconvert_exporter": "python",
   "pygments_lexer": "ipython3",
   "version": "3.4.3"
  }
 },
 "nbformat": 4,
 "nbformat_minor": 0
}
